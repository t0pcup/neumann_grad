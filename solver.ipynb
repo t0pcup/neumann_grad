{
 "cells": [
  {
   "cell_type": "code",
   "execution_count": 180,
   "id": "present-taiwan",
   "metadata": {},
   "outputs": [
    {
     "data": {
      "text/plain": [
       "tensor(22.5000, dtype=torch.float64)"
      ]
     },
     "execution_count": 180,
     "metadata": {},
     "output_type": "execute_result"
    }
   ],
   "source": [
    "from torch import tensor\n",
    "from fft_conv import fft_conv\n",
    "\n",
    "step = 5\n",
    "\n",
    "a = tensor([1, 2, 3, 4], dtype=torch.float64)\n",
    "b = tensor([1, 1, 0, 1], dtype=torch.float64)\n",
    "w = tensor([step] * len(a), dtype=torch.float64)\n",
    "w[0], w[-1] = step * 0.5, step * 0.5\n",
    "\n",
    "(w * b) @ a"
   ]
  },
  {
   "cell_type": "code",
   "execution_count": 2,
   "id": "adult-horizontal",
   "metadata": {},
   "outputs": [],
   "source": [
    "import matplotlib.pyplot as plt\n",
    "import numpy as np\n",
    "from scipy.integrate import simpson\n",
    "from fft_conv import fft_conv\n",
    "import torch\n",
    "import torch.nn.functional as f"
   ]
  },
  {
   "cell_type": "code",
   "execution_count": 233,
   "id": "centered-fabric",
   "metadata": {},
   "outputs": [],
   "source": [
    "graph = make_dot(Q, params={'x': solver.x})"
   ]
  },
  {
   "cell_type": "code",
   "execution_count": 234,
   "id": "referenced-baseball",
   "metadata": {},
   "outputs": [
    {
     "data": {
      "text/plain": [
       "'Digraph.gv.pdf'"
      ]
     },
     "execution_count": 234,
     "metadata": {},
     "output_type": "execute_result"
    }
   ],
   "source": [
    "graph.view()"
   ]
  },
  {
   "cell_type": "code",
   "execution_count": 352,
   "id": "black-surveillance",
   "metadata": {},
   "outputs": [],
   "source": [
    "import numpy as np\n",
    "import torch\n",
    "from torch import Tensor\n",
    "import torch.nn.functional as f\n",
    "from fft_conv import fft_conv\n",
    "from scipy.stats import norm\n",
    "\n",
    "class Neumann:\n",
    "    EPS = 1e-12\n",
    "\n",
    "    def _calc_step(self):\n",
    "        sqrt2pi = (2 * np.pi) ** 0.5\n",
    "        logm = np.log(self.EPS * self.sm * sqrt2pi)\n",
    "        logw = np.log(self.EPS * self.sw * sqrt2pi)\n",
    "\n",
    "        if logm > 0 or logw > 0:\n",
    "            t = 1\n",
    "        else:\n",
    "            xm = np.sqrt(-2 * (self.sm ** 2) * logm)\n",
    "            xw = np.sqrt(-2 * (self.sw ** 2) * logw)\n",
    "            t = max(xm, xw)\n",
    "\n",
    "        return t / len(self.GT)\n",
    "    \n",
    "    def _calc_disribution(self, sigma):\n",
    "        lspace = np.linspace(0, self.r, len(self.GT))\n",
    "        return torch.tensor(norm.pdf(lspace, scale=sigma))\n",
    "    \n",
    "    def __init__(self, GT, sm, sw, b, d, s, x0, r=15, n_iters=15):\n",
    "        # save params\n",
    "        self.n_iters = n_iters\n",
    "        self.r = r\n",
    "        \n",
    "        self.b = b\n",
    "        self.d = d\n",
    "        self.s = s\n",
    "        self.sm = sm\n",
    "        self.sw = sw\n",
    "        \n",
    "        self.GT = torch.from_numpy(GT)\n",
    "        \n",
    "        # init m, w\n",
    "        self.m = self._calc_disribution(sm) * self.b\n",
    "        self.w = self._calc_disribution(sw) * self.s\n",
    "        \n",
    "        # step\n",
    "        self.step = self._calc_step()\n",
    "        \n",
    "        #parameters to optimize\n",
    "        self.x = torch.tensor(x0, requires_grad=True)\n",
    "        \n",
    "        self.lr = 0.1\n",
    "        \n",
    "        \n",
    "    def _scalar_product(self, f: Tensor, g: Tensor) -> Tensor:\n",
    "        w = torch.tensor([self.step] * len(self.GT), dtype=torch.double)\n",
    "        w[0], w[-1] = [self.step * 0.5] * 2\n",
    "        return 2 * f @ (w * g)\n",
    "    \n",
    "    def _get_convolutions(self, signal: Tensor, kernel: Tensor) -> Tensor:\n",
    "        f = torch.reshape(signal, [1, 1, signal.size(-1)])\n",
    "        g = torch.reshape(kernel, [1, 1, kernel.size(-1)])\n",
    "        window_start = (f.size(-1)+1) // 2\n",
    "        res = fft_conv(f, g, padding=f.size(-1) - 1)[..., window_start:window_start + f.size(-1)]\n",
    "        res = torch.reshape(res, [f.size(-1)])\n",
    "        return res * self.step / f.size(-1)\n",
    "        \n",
    "    def _convolve(self, C: Tensor) -> (Tensor, Tensor, Tensor):\n",
    "        mC = self._get_convolutions(C, self.m)\n",
    "        wC = self._get_convolutions(C, self.w)\n",
    "        CwC = self._get_convolutions(C, self.w*C)\n",
    "        return mC, wC, CwC\n",
    "\n",
    "    def _neumann_iteration(self, N: Tensor, C: Tensor) -> (Tensor, Tensor):\n",
    "        Y = self._scalar_product(C, self.w)\n",
    "        N = (self.b - self.d) / (Y + self.s)\n",
    "        mC, wC, CwC = self._convolve(C)\n",
    "        C = (self.m / N - self.w + mC - N / (self.x[0] + self.x[2]) * (wC * (self.x[1] * (C + 1) + self.x[2]) + CwC * self.x[2])) / \\\n",
    "            (self.d + self.w + (self.x[0] * (self.b - self.d) + self.x[1] * self.s * N) / (self.x[0] + self.x[2]))\n",
    "        return N, C\n",
    "    def method(self) -> (Tensor, Tensor, Tensor, Tensor):\n",
    "        C = self.w.clone().detach()\n",
    "        N = torch.tensor([1.], requires_grad=False, dtype=torch.double)\n",
    "        for i in range(self.n_iters):\n",
    "            N, C = self._neumann_iteration(N, C)\n",
    "        C += 1\n",
    "        Q = torch.norm(C - self.GT)**2\n",
    "        return N, C, Q, self.x\n",
    "    def proj_grad(self) -> Tensor:\n",
    "        t = torch.ones(len(self.x), dtype=torch.double, requires_grad=False)\n",
    "        norms = []\n",
    "        for i in range(500):\n",
    "            N, C, Q, x = self.method()\n",
    "            Q.backward()\n",
    "            with torch.no_grad():\n",
    "                x -= self.lr * self.x.grad / torch.norm(self.x.grad)\n",
    "                self.x.grad = None\n",
    "            self.x = (x + (1 - x @ t) / 3 * t).clone().detach().requires_grad_(True)\n",
    "            norms.append(Q.detach().numpy())\n",
    "            if (i % 500 == 0):\n",
    "                print(f\"Q:{Q}, current x:{self.x}\")\n",
    "        return self.x, norms\n",
    "        "
   ]
  },
  {
   "cell_type": "code",
   "execution_count": 328,
   "id": "blank-tuesday",
   "metadata": {},
   "outputs": [],
   "source": [
    "sims = pd.read_csv(f'./GT/pcf/{1}/{1}.csv').fillna(method='bfill')\n",
    "sms = np.array([0.96, 0.45, 0.09])\n",
    "sws = np.array([0.09, 0.45, 0.96])\n",
    "b = 0.2\n",
    "d = 0.02\n",
    "dds = np.array([0.02, 0.2, 0.4])\n",
    "x0 = np.array([1.0, 1.0, -3.0])"
   ]
  },
  {
   "cell_type": "code",
   "execution_count": 353,
   "id": "critical-opera",
   "metadata": {},
   "outputs": [],
   "source": [
    "solver = Neumann(np.array(sims['y']), sms[0], sws[0], b, d, dds[0], x0)"
   ]
  },
  {
   "cell_type": "code",
   "execution_count": 302,
   "id": "short-vietnamese",
   "metadata": {},
   "outputs": [],
   "source": [
    "N, C, Q, new_x = solver.method()"
   ]
  },
  {
   "cell_type": "code",
   "execution_count": 304,
   "id": "amateur-generation",
   "metadata": {},
   "outputs": [
    {
     "data": {
      "text/plain": [
       "[<matplotlib.lines.Line2D at 0x15a7d34c0>]"
      ]
     },
     "execution_count": 304,
     "metadata": {},
     "output_type": "execute_result"
    },
    {
     "data": {
      "image/png": "[encoded data removed]",
      "text/plain": [
       "<Figure size 432x288 with 1 Axes>"
      ]
     },
     "metadata": {
      "needs_background": "light"
     },
     "output_type": "display_data"
    }
   ],
   "source": [
    "plt.plot(lspace, C.detach().numpy())\n",
    "plt.plot(lspace, sims['y'])"
   ]
  },
  {
   "cell_type": "code",
   "execution_count": 354,
   "id": "comprehensive-referral",
   "metadata": {},
   "outputs": [
    {
     "name": "stdout",
     "output_type": "stream",
     "text": [
      "Q:15.529631153713309, current x:tensor([ 1.6998,  1.6467, -2.3465], dtype=torch.float64, requires_grad=True)\n"
     ]
    }
   ],
   "source": [
    "x, norms = solver.proj_grad()"
   ]
  },
  {
   "cell_type": "code",
   "execution_count": 355,
   "id": "cosmetic-richmond",
   "metadata": {},
   "outputs": [
    {
     "data": {
      "text/plain": [
       "(500,)"
      ]
     },
     "execution_count": 355,
     "metadata": {},
     "output_type": "execute_result"
    }
   ],
   "source": [
    "norms = np.array(norms)\n",
    "norms.shape"
   ]
  },
  {
   "cell_type": "code",
   "execution_count": 356,
   "id": "universal-deputy",
   "metadata": {},
   "outputs": [],
   "source": [
    "%config InlineBackend.figure_format = 'retina'"
   ]
  },
  {
   "cell_type": "code",
   "execution_count": 357,
   "id": "minus-title",
   "metadata": {},
   "outputs": [],
   "source": [
    "def myplot(x, y, xlab, ylab, xscale=\"linear\", yscale=\"log\"):\n",
    "    plt.figure(figsize=(10, 8))\n",
    "    plt.xscale(xscale)\n",
    "    plt.yscale(yscale)\n",
    "    for key in y:\n",
    "        plt.semilogy(x[key], y[key], label=key)\n",
    "    plt.xticks(fontsize=24)\n",
    "    plt.yticks(fontsize=24)\n",
    "    plt.legend(loc=\"best\", fontsize=24)\n",
    "    plt.xlabel(xlab, fontsize=24)\n",
    "    plt.ylabel(ylab, fontsize=24)"
   ]
  },
  {
   "cell_type": "code",
   "execution_count": null,
   "id": "swiss-explorer",
   "metadata": {},
   "outputs": [],
   "source": [
    "np.sqrt()"
   ]
  },
  {
   "cell_type": "code",
   "execution_count": 367,
   "id": "wound-ticket",
   "metadata": {},
   "outputs": [
    {
     "name": "stdout",
     "output_type": "stream",
     "text": [
      "Относительная погрешность, %: 0.8160478725019593\n"
     ]
    },
    {
     "data": {
      "image/png": "[encoded data removed]",
      "text/plain": [
       "<Figure size 720x576 with 1 Axes>"
      ]
     },
     "metadata": {
      "image/png": {
       "height": 502,
       "width": 651
      },
      "needs_background": "light"
     },
     "output_type": "display_data"
    }
   ],
   "source": [
    "import matplotlib.pyplot as plt\n",
    "%matplotlib inline\n",
    "plt.rc(\"text\", usetex=True)\n",
    "myplot({\"PG\": range(1, len(norms) + 1)},\n",
    "       {\"PG\": norms}, \"Number of iterations\",\n",
    "       r\"Objective function $Q = \\|C - C_{sim}\\|^2_2$\")\n",
    "print(f\"Относительная погрешность, %: {np.sqrt(norms[-1]) / np.linalg.norm(sims['y']) * 100}\")"
   ]
  },
  {
   "cell_type": "code",
   "execution_count": null,
   "id": "intimate-rolling",
   "metadata": {},
   "outputs": [],
   "source": [
    "def double_exponential_smoothing(series, alpha, beta):\n",
    "    result = [series[0]]\n",
    "    for n in range(1, len(series) + 1):\n",
    "        if n == 1:\n",
    "            level, trend = series[0], series[1] - series[0]\n",
    "        if n >= len(series): # прогнозируем\n",
    "            value = result[-1]\n",
    "        else:\n",
    "            value = series[n]\n",
    "        last_level, level = level, alpha * value + (1 - alpha) * (level + trend)\n",
    "        trend = beta * (level - last_level) + (1 - beta) * trend\n",
    "        result.append(level + trend)\n",
    "    return [result[0:len(result)-1], f\"Double_exp: alpha {alpha}, beta {beta}\"]\n",
    "\n",
    "\n",
    "def moving_average(n, p = 96, std = False):\n",
    "    rolling_mean = sims[index_of_data_set]['pcf'].rolling(window=n).mean()\n",
    "\n",
    "    if std: # При желании, можно строить и доверительные интервалы для сглаженных значений\n",
    "        rolling_std =  sims[index_of_data_set]['pcf'].rolling(window=n).std()\n",
    "        upper_bond = rolling_mean + float(f\"1.{p}\") * rolling_std\n",
    "        lower_bond = rolling_mean - 1.96 * rolling_std\n",
    "\n",
    "    return [rolling_std, lower_bond, upper_bond, std, f\"Rolling mean trend n={n}\", p]\n",
    "\n",
    "\n",
    "def exponential_smoothing(series, alpha):\n",
    "    result = [series[0]] # first value is same as series\n",
    "    for n in range(1, len(series)):\n",
    "        result.append(alpha * series[n] + (1 - alpha) * result[n - 1])\n",
    "    return [result, f\"Exp: alpha {alpha}\"]"
   ]
  },
  {
   "cell_type": "code",
   "execution_count": 1,
   "metadata": {},
   "outputs": [],
   "source": [
    "def printer(exp, double_exp, avg):\n",
    "    with plt.style.context('seaborn-white'):    \n",
    "        plt.figure(figsize=(10, 5))\n",
    "        plt.plot(sims[index_of_data_set]['pcf'], label = \"Actual\")\n",
    "\n",
    "        plt.plot(exp[0], label=exp[1])\n",
    "        plt.plot(double_exp[0], label=double_exp[1])\n",
    "        plt.plot(avg[0], label=avg[4])\n",
    "        \n",
    "        if avg[3]:\n",
    "            plt.plot(avg[1], \"r--\")\n",
    "            plt.plot(avg[2], \"r--\", label=f\"Upper/Lower, {avg[5]}perc\")\n",
    "        \n",
    "        plt.legend(loc=\"best\")\n",
    "        plt.axis('tight')\n",
    "        plt.title(\"Smoothing comparison\")\n",
    "        plt.grid(True)\n",
    "        plt.show()"
   ]
  },
  {
   "cell_type": "code",
   "execution_count": null,
   "id": "residential-enough",
   "metadata": {},
   "outputs": [],
   "source": [
    "data = sims[index_of_data_set]['pcf']\n",
    "\n",
    "printer(\n",
    "    exponential_smoothing(data, 0.87),\n",
    "    double_exponential_smoothing(data, 0.7, 0.3),\n",
    "    moving_average(5))"
   ]
  }
 ],
 "metadata": {
  "kernelspec": {
   "display_name": "Python 3",
   "language": "python",
   "name": "python3"
  },
  "language_info": {
   "codemirror_mode": {
    "name": "ipython",
    "version": 3
   },
   "file_extension": ".py",
   "mimetype": "text/x-python",
   "name": "python",
   "nbconvert_exporter": "python",
   "pygments_lexer": "ipython3",
   "version": "3.9.2"
  }
 },
 "nbformat": 4,
 "nbformat_minor": 5
}
